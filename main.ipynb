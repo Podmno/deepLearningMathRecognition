{
 "cells": [
  {
   "cell_type": "markdown",
   "id": "ef188c73",
   "metadata": {},
   "source": [
    "# 手写数字识别"
   ]
  },
  {
   "cell_type": "code",
   "execution_count": 12,
   "id": "9413c21b",
   "metadata": {},
   "outputs": [],
   "source": [
    "import numpy as np\n",
    "import matplotlib.pyplot as plt"
   ]
  },
  {
   "cell_type": "markdown",
   "id": "cbd59cb3",
   "metadata": {},
   "source": [
    "## 数据读取器 DataLoader"
   ]
  },
  {
   "cell_type": "code",
   "execution_count": 13,
   "id": "b0ba10bb",
   "metadata": {},
   "outputs": [
    {
     "name": "stdout",
     "output_type": "stream",
     "text": [
      "[Dataloader] images shape:\n",
      "(60000, 28, 28)\n",
      "[Dataloader] labels shape:\n",
      "(60000,)\n",
      "[Dataloader] Reshape of images: 60000, 28 * 28 = 784\n"
     ]
    }
   ],
   "source": [
    "class Dataloader():\n",
    "    def get_data(self):\n",
    "        with np.load(\"mnist.npz\") as f:\n",
    "            images, labels = f[\"x_train\"], f[\"y_train\"]\n",
    "        print(\"[Dataloader] images shape:\")\n",
    "        print(images.shape)\n",
    "        print(\"[Dataloader] labels shape:\")\n",
    "        print(labels.shape)\n",
    "        # 数字归一化, 将 0~255 的数字缩放到 0~1 的范围\n",
    "        images = images.astype(\"float32\") / 255\n",
    "        # 将 28*28 的图片拉伸为一个 784 的数组\n",
    "        print(\"[Dataloader] Reshape of images: %d, %d * %d = %d\" % (images.shape[0], images.shape[1],images.shape[2], images.shape[1] * images.shape[2]) )\n",
    "        images = np.reshape(images, (images.shape[0], images.shape[1]*images.shape[2]))\n",
    "\n",
    "        # 将 labels 处理为 one-hot 形式 (形式与输出层一致)\n",
    "        labels = np.eye(10)[labels]\n",
    "        return images, labels\n",
    "    \n",
    "# DataLoader\n",
    "dataloader = Dataloader()\n",
    "images, labels = dataloader.get_data()"
   ]
  },
  {
   "cell_type": "markdown",
   "id": "8fe1ab8a",
   "metadata": {},
   "source": [
    "## 创建模型\n",
    "神经网络构成：\n",
    "784 - 20 - 10\n",
    "\n",
    "关注 `b_i_h`, 最后得到的是一个大小为 20*1 的结果，与 `b_i_h` 的维度相同。"
   ]
  },
  {
   "cell_type": "code",
   "execution_count": 14,
   "id": "7a4cb7ac",
   "metadata": {},
   "outputs": [],
   "source": [
    "# 创建模型\n",
    "\n",
    "## 输入层 -> 隐藏层 参数\n",
    "w_i_h = np.random.uniform(-0.5, 0.5, (20, 784))\n",
    "b_i_h = np.zeros((20, 1))\n",
    "## 隐藏层 -> 输出层 参数\n",
    "w_h_o = np.random.uniform(-0.5, 0.5, (10, 20))\n",
    "b_h_o = np.zeros((10, 1))"
   ]
  },
  {
   "cell_type": "markdown",
   "id": "3b2026b1",
   "metadata": {},
   "source": [
    "## 训练模型\n",
    "### 超参数"
   ]
  },
  {
   "cell_type": "code",
   "execution_count": 15,
   "id": "a902f31e",
   "metadata": {},
   "outputs": [],
   "source": [
    "# 设置超参数\n",
    "## 学习率\n",
    "learn_rate = 0.01\n",
    "## 模型训练正确的次数记录\n",
    "nr_correct = 0\n",
    "## 训练批次\n",
    "epochs = 5"
   ]
  },
  {
   "cell_type": "markdown",
   "id": "7ee6b6e4",
   "metadata": {},
   "source": [
    "### 前向传播"
   ]
  },
  {
   "cell_type": "code",
   "execution_count": 16,
   "id": "9f016a29",
   "metadata": {},
   "outputs": [
    {
     "name": "stdout",
     "output_type": "stream",
     "text": [
      "Acc: 57.53%\n",
      "Acc: 81.43%\n",
      "Acc: 86.16%\n",
      "Acc: 88.06%\n",
      "Acc: 89.24%\n"
     ]
    }
   ],
   "source": [
    "# 外层 epoch\n",
    "for epoch in range(epochs):\n",
    "    # 对数据集中的每一张图片进行训练\n",
    "    for img, l in zip(images, labels):\n",
    "        # 调整数据的形状, 将长度为 784 的一位数组改为 784*1 的数组\n",
    "        img.shape += (1,)\n",
    "        l.shape += (1,)\n",
    "\n",
    "        # 前向传播: 输入成 -> 隐藏层 @: 矩阵乘法, 或者使用 np.dot\n",
    "        h_pre = b_i_h + w_i_h @ img\n",
    "        h = 1 / (1 + np.exp(-h_pre))\n",
    "\n",
    "        # 隐藏层 -> 输出层\n",
    "        o_pre = b_h_o + w_h_o @ h\n",
    "        o = 1 / (1 + np.exp(-o_pre))\n",
    "\n",
    "        # 损失函数计算: np.sum 的 axis 参数用来制定对哪个维度进行求和\n",
    "        # 因为是 10*1 数组所以是维度 0\n",
    "        e = 1 / len(o) * np.sum((o - l) ** 2, axis=0)\n",
    "        nr_correct += int(np.argmin(o) == np.argmax(l))\n",
    "\n",
    "        # 反向传播\n",
    "        # 输出层 -> 隐藏层\n",
    "        delta_o = 0.2 * (o - l)\n",
    "        delta_z = (o * (1 - o))\n",
    "        delta_w_h = np.transpose(h)\n",
    "        w_h_o += -learn_rate * delta_o @ delta_w_h * delta_z\n",
    "        b_h_o += -learn_rate * delta_o\n",
    "        # 隐藏层 -> 输入层\n",
    "        delta_h = np.transpose(w_h_o)\n",
    "        delta_z_2 = (h * (1-h))\n",
    "        delta_w_i = np.transpose(img)\n",
    "        w_i_h += -learn_rate * delta_h @ delta_o * delta_z_2 @ delta_w_i\n",
    "        b_i_h += -learn_rate * delta_h @ delta_o * delta_z_2\n",
    "\n",
    "        # 精准度\n",
    "        nr_correct += int(np.argmax(o) == np.argmax(l))\n",
    "    print(f\"Acc: {round((nr_correct / images.shape[0]) * 100, 2)}%\")\n",
    "    nr_correct = 0"
   ]
  },
  {
   "cell_type": "markdown",
   "id": "e2d0ccef",
   "metadata": {},
   "source": [
    "## 主函数"
   ]
  },
  {
   "cell_type": "code",
   "execution_count": 19,
   "id": "b7463552",
   "metadata": {},
   "outputs": [
    {
     "data": {
      "image/png": "[encoded data removed]",
      "text/plain": [
       "<Figure size 640x480 with 1 Axes>"
      ]
     },
     "metadata": {},
     "output_type": "display_data"
    }
   ],
   "source": [
    "# 指定编号 (0 ~ 59999)\n",
    "index = 79\n",
    "img = images[index]\n",
    "plt.imshow(img.reshape(28, 28), cmap=\"Greys\")\n",
    "img.shape += (1,)\n",
    "\n",
    "# 前向传播\n",
    "h_pre = b_i_h + w_i_h @ img.reshape(784, 1)\n",
    "h = 1 / (1 + np.exp(-h_pre))\n",
    "o_pre = b_h_o + w_h_o @ h\n",
    "o = 1 / (1 + np.exp(-o_pre))\n",
    "plt.title(f\"This figure is predicted to be: {o.argmax()}\")\n",
    "plt.show()"
   ]
  }
 ],
 "metadata": {
  "kernelspec": {
   "display_name": "Python 3",
   "language": "python",
   "name": "python3"
  },
  "language_info": {
   "codemirror_mode": {
    "name": "ipython",
    "version": 3
   },
   "file_extension": ".py",
   "mimetype": "text/x-python",
   "name": "python",
   "nbconvert_exporter": "python",
   "pygments_lexer": "ipython3",
   "version": "3.11.13"
  }
 },
 "nbformat": 4,
 "nbformat_minor": 5
}
